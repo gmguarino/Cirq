{
 "metadata": {
  "language_info": {
   "codemirror_mode": {
    "name": "ipython",
    "version": 3
   },
   "file_extension": ".py",
   "mimetype": "text/x-python",
   "name": "python",
   "nbconvert_exporter": "python",
   "pygments_lexer": "ipython3",
   "version": "3.6.9-final"
  },
  "orig_nbformat": 2,
  "kernelspec": {
   "name": "python36964bitvenvvenv10de57a4a175421383bef59a35ffb00e",
   "display_name": "Python 3.6.9 64-bit ('.venv': venv)"
  }
 },
 "nbformat": 4,
 "nbformat_minor": 2,
 "cells": [
  {
   "cell_type": "code",
   "execution_count": 122,
   "metadata": {},
   "outputs": [],
   "source": [
    "import cirq"
   ]
  },
  {
   "cell_type": "markdown",
   "metadata": {},
   "source": [
    "## Deutsch's Algorithm\n",
    "---------------------\n",
    "\n",
    "Deutsch's algorithm is one of the earliset and simplest demonstrations of an problem that is easily solvable by a quantum computer, yet hard to solve by in a classical way."
   ]
  },
  {
   "cell_type": "markdown",
   "metadata": {},
   "source": [
    "### The Problem\n",
    "\n",
    "The Deutsch (or Deutsch-Jozsa) problem consists of a black box 'oracle' function that takes in two bits and maps them to an ouput bit. The problem is formulated as such: \n",
    "\n",
    "\"Is the oracle balanced or constant?\"\n",
    "\n",
    "Basically this is asking whether the outputs of the function depend on the input (no->constant; yes->balanced).\n",
    "\n",
    "To solve this classically the function needs to be called at least twice (if acting on two bit only, the problem can be extended to *n* bits, but the quantum solution still holds.)\n",
    "\n",
    "ie: if f(0) = 0, I still need to evaluate f(1) to determine whether the function is constant or balanced."
   ]
  },
  {
   "cell_type": "markdown",
   "metadata": {},
   "source": [
    "### The quantum solution\n",
    "\n",
    "In a quantum computig setting, this can be solved via a single call to the oracle function rather than multiple calls. Needing to check the constant hypothesis $f(0) = f(1)$ (which is equivalent to checking whether $f(0) \\bigoplus f(1)$ is 0), we consider a quantum implementation of the function $f$ that maps $\\big|x\\big>$$\\big|y\\big>$ to $\\big|x\\big>$$\\big|f(x)\\bigoplus y\\big>$. This is similar to a CNOT gate mapping $\\big|x\\big>$$\\big|y\\big>$ to $\\big|x\\big>$$\\big|x\\bigoplus y\\big>$.\n",
    "\n",
    "Starting with two qubits in the preprepared state $|0> |1>$ we apply a Hadamard Gate to each qubit yielding:\n",
    "\n",
    "H$\\big|01\\big> \\rightarrow \\frac{1}{2}(\\big|0\\big> + \\big|1\\big>)(\\big|0\\big> - \\big|1\\big>)$\n",
    "\n",
    "Our 'quantum function' applied to the qubits will give us:\n",
    "\n",
    "$\n",
    "\\frac{1}{2}\\big|0\\big>(\\big|f(0)\\bigoplus 0\\big> - \\big|f(0)\\bigoplus1\\big>) + \\frac{1}{2}\\big|1\\big>(\\big|f(1)\\bigoplus 0\\big> - \\big|f(1)\\bigoplus1\\big>)\n",
    "$ <br/><br/>\n",
    "$\n",
    "=(-1)^{f(0)}\\frac{1}{2}\\big(\\big|0\\big> + (-1)^{f(0) \\bigoplus f(1)}\\big|1\\big>\\big)(\\big|0\\big> - \\big|1\\big>)\\qquad-(1)\n",
    "$\n",
    "\n",
    "Ignoring the last bit and a global phase we have:\n",
    "\n",
    "$\n",
    "\\frac{1}{2}\\big(\\big|0\\big> + (-1)^{f(0) \\bigoplus f(1)}\\big|1\\big>\\big)\\qquad-(2)\n",
    "$\n",
    "\n",
    "We finally apply another Hadamard gate to this state and we get \n",
    "\n",
    "$\n",
    "\\frac{1}{2}(\\big|0\\big> + \\big|1\\big> + (-1)^{f(0) \\bigoplus f(1)}\\big|0\\big> - (-1)^{f(0) \\bigoplus f(1)}\\big|1\\big>)\n",
    "$\n",
    "\n",
    "which we factorize as:\n",
    "\n",
    "$\n",
    "\\frac{1}{2}((1 +  (-1)^{f(0) \\bigoplus f(1)})\\big|0\\big> + (1 -  (-1)^{f(0) \\bigoplus f(1)})\\big|1\\big>)\\qquad-(3)\n",
    "$\n",
    "\n",
    "If $f(0) \\bigoplus f(1) = 0$ (constant function), the only possible solution is that we measure a 0, whilst if $f(0) \\bigoplus f(1) = 1$ (balanced function) we can only measure a 1."
   ]
  },
  {
   "cell_type": "markdown",
   "metadata": {},
   "source": [
    "### How does this translate to code?\n",
    "\n",
    "First we need to prepare the initial state by generating two qubits and applying a Pauli X gate to qubit 1.\n",
    "\n",
    "We can then apply the Hadamard gate to both qubits 0 and 1."
   ]
  },
  {
   "cell_type": "code",
   "execution_count": 131,
   "metadata": {},
   "outputs": [],
   "source": [
    "q0, q1 = cirq.LineQubit.range(2)\n",
    "\n",
    "circuit = cirq.Circuit([cirq.X(q1), cirq.H(q1), cirq.H(q0)])"
   ]
  },
  {
   "cell_type": "code",
   "execution_count": 132,
   "metadata": {
    "tags": []
   },
   "outputs": [
    {
     "output_type": "stream",
     "name": "stdout",
     "text": "measurements: (no measurements)\noutput vector: 0.5|00⟩ - 0.5|01⟩ + 0.5|10⟩ - 0.5|11⟩\n"
    }
   ],
   "source": [
    "# Define a simulator to debug the state\n",
    "s = cirq.Simulator()\n",
    "\n",
    "print(s.simulate(circuit))"
   ]
  },
  {
   "cell_type": "markdown",
   "metadata": {},
   "source": [
    "We now need to define a quantum function that returns two outputs for the 2 qubits. \n",
    "\n",
    "We can make this \"oracle quantum function\" random so to not be influenced by knowing the result."
   ]
  },
  {
   "cell_type": "code",
   "execution_count": 133,
   "metadata": {},
   "outputs": [],
   "source": [
    "def oracle_quantum_function(q0, q1, secret_seed):\n",
    "    \"\"\"\n",
    "    The secret_seed variable gives us the output of the oracle function, the following code then uses it to construct the modified CNOT gate\n",
    "    \"\"\"\n",
    "    if secret_seed[0]:\n",
    "        yield [cirq.CNOT(q0, q1), cirq.X(q1)]\n",
    "\n",
    "    if secret_seed[1]:\n",
    "        yield cirq.CNOT(q0, q1)"
   ]
  },
  {
   "cell_type": "markdown",
   "metadata": {},
   "source": [
    "We can finally combine the full circuit below, adding in the measurement on the first qubit to obtain a definite answer and classify our function."
   ]
  },
  {
   "cell_type": "code",
   "execution_count": 134,
   "metadata": {},
   "outputs": [],
   "source": [
    "import random"
   ]
  },
  {
   "cell_type": "code",
   "execution_count": 135,
   "metadata": {
    "tags": []
   },
   "outputs": [
    {
     "output_type": "stream",
     "name": "stdout",
     "text": "f(x) =  0, 0\n"
    }
   ],
   "source": [
    "secret_seed = [random.randint(0, 1) for _ in range(2)]\n",
    "\n",
    "# For debugging\n",
    "print(\"f(x) =  {}, {}\".format(secret_seed[0], secret_seed[1]))\n",
    "\n",
    "oracle = oracle_quantum_function(q0, q1, secret_seed)\n"
   ]
  },
  {
   "cell_type": "code",
   "execution_count": 136,
   "metadata": {},
   "outputs": [],
   "source": [
    "\n",
    "# Add the result of the modified CNOT/oracle function to the circuit\n",
    "circuit.append(oracle)\n",
    "\n",
    "# Apply the Hadamard gate to qubit 0 and measure it out\n",
    "circuit.append([cirq.H(q0), cirq.measure(q0, key=\"result\")])\n",
    "\n",
    "#Running the circuit and measuring it out\n",
    "result = s.run(circuit)"
   ]
  },
  {
   "cell_type": "code",
   "execution_count": 137,
   "metadata": {},
   "outputs": [],
   "source": [
    "def check_result(result):\n",
    "\n",
    "    print('Result of f(0)⊕f(1):')\n",
    "    print(result)\n",
    "    print()\n",
    "    print(\"The secret function is :\", end=\" \")\n",
    "    if list(result.histogram(key=\"result\").keys())[0]:\n",
    "        print(\"Balanced!\")\n",
    "    else:\n",
    "        print(\"Constant\")\n"
   ]
  },
  {
   "cell_type": "code",
   "execution_count": 138,
   "metadata": {
    "tags": []
   },
   "outputs": [
    {
     "output_type": "stream",
     "name": "stdout",
     "text": "Result of f(0)⊕f(1):\nresult=0\n\nThe secret function is : Constant\n"
    }
   ],
   "source": [
    "check_result(result)"
   ]
  },
  {
   "cell_type": "code",
   "execution_count": null,
   "metadata": {},
   "outputs": [],
   "source": []
  },
  {
   "cell_type": "code",
   "execution_count": null,
   "metadata": {},
   "outputs": [],
   "source": []
  }
 ]
}